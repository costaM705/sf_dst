{
  "cells": [
    {
      "attachments": {},
      "cell_type": "markdown",
      "metadata": {
        "id": "4EthnxVMP1Oo"
      },
      "source": [
        "# Импорт библиотек"
      ]
    },
    {
      "cell_type": "code",
      "execution_count": 1,
      "metadata": {
        "id": "toIOooHTP1gu"
      },
      "outputs": [],
      "source": [
        "import pandas as pd\n",
        "import numpy as np\n",
        "import plotly.express as px\n",
        "import matplotlib.pyplot as plt\n",
        "import seaborn as sns\n",
        "%matplotlib inline\n",
        "\n",
        "# EDA библиотеки\n",
        "import statistics as stcs\n",
        "\n",
        "# библиотека для расчетов корреляций\n",
        "from scipy import stats"
      ]
    },
    {
      "attachments": {},
      "cell_type": "markdown",
      "metadata": {
        "id": "9U8Ob_ZbHHRG"
      },
      "source": [
        "# Корреляция и сравнительные тесты<br> размеров мидий из Санкт-Петербурга и Магадана\n",
        "\n",
        "Используя информацию по мидиям Петербурга и Магадана, которые представлены в виде двух массивов *petersburg* и *magadan*, проверьте данные на нормальность и на наличие корреляции. \n",
        "\n",
        "Для этого:\n",
        "\n",
        "* Объедините два массива в DataFrame. \n",
        "* Обоснуйте выбор теста на корреляцию. \n",
        "* Сделайте вывод по гипотезе.\n",
        "* Ответьте на вопрос: **Какова разница в среднем размере мидии в зависимости от города-производителя**\n",
        "* Обоснуйте выбор теста. \n",
        "* Сделайте вывод по гипотезе."
      ]
    },
    {
      "attachments": {},
      "cell_type": "markdown",
      "metadata": {
        "id": "sNOEOXNQHHRK"
      },
      "source": [
        "# Создаём Dataframe"
      ]
    },
    {
      "cell_type": "code",
      "execution_count": 2,
      "metadata": {
        "id": "I2G93cb4HHRN"
      },
      "outputs": [],
      "source": [
        "# исходные данные по размерам мидий\n",
        "mussels_spb = [0.0974, 0.1352, 0.0817, 0.1016, 0.0968, 0.1064, 0.105]\n",
        "mussels_mgdn = [0.1033, 0.0915, 0.0781, 0.0685, 0.0677, 0.0697, 0.0764, 0.0689]"
      ]
    },
    {
      "cell_type": "code",
      "execution_count": 3,
      "metadata": {
        "colab": {
          "base_uri": "https://localhost:8080/",
          "height": 300
        },
        "id": "qSb2Y1SFHHRO",
        "outputId": "96c8bd07-7c99-4c31-c510-82fc15175915"
      },
      "outputs": [
        {
          "data": {
            "text/html": [
              "\n",
              "  <div id=\"df-9cd80d06-87b0-4bcc-9870-d27071a2754e\">\n",
              "    <div class=\"colab-df-container\">\n",
              "      <div>\n",
              "<style scoped>\n",
              "    .dataframe tbody tr th:only-of-type {\n",
              "        vertical-align: middle;\n",
              "    }\n",
              "\n",
              "    .dataframe tbody tr th {\n",
              "        vertical-align: top;\n",
              "    }\n",
              "\n",
              "    .dataframe thead th {\n",
              "        text-align: right;\n",
              "    }\n",
              "</style>\n",
              "<table border=\"1\" class=\"dataframe\">\n",
              "  <thead>\n",
              "    <tr style=\"text-align: right;\">\n",
              "      <th></th>\n",
              "      <th>spb</th>\n",
              "      <th>mgdn</th>\n",
              "    </tr>\n",
              "  </thead>\n",
              "  <tbody>\n",
              "    <tr>\n",
              "      <th>0</th>\n",
              "      <td>0.0974</td>\n",
              "      <td>0.1033</td>\n",
              "    </tr>\n",
              "    <tr>\n",
              "      <th>1</th>\n",
              "      <td>0.1352</td>\n",
              "      <td>0.0915</td>\n",
              "    </tr>\n",
              "    <tr>\n",
              "      <th>2</th>\n",
              "      <td>0.0817</td>\n",
              "      <td>0.0781</td>\n",
              "    </tr>\n",
              "    <tr>\n",
              "      <th>3</th>\n",
              "      <td>0.1016</td>\n",
              "      <td>0.0685</td>\n",
              "    </tr>\n",
              "    <tr>\n",
              "      <th>4</th>\n",
              "      <td>0.0968</td>\n",
              "      <td>0.0677</td>\n",
              "    </tr>\n",
              "    <tr>\n",
              "      <th>5</th>\n",
              "      <td>0.1064</td>\n",
              "      <td>0.0697</td>\n",
              "    </tr>\n",
              "    <tr>\n",
              "      <th>6</th>\n",
              "      <td>0.1050</td>\n",
              "      <td>0.0764</td>\n",
              "    </tr>\n",
              "    <tr>\n",
              "      <th>7</th>\n",
              "      <td>0.1033</td>\n",
              "      <td>0.0689</td>\n",
              "    </tr>\n",
              "  </tbody>\n",
              "</table>\n",
              "</div>\n",
              "      <button class=\"colab-df-convert\" onclick=\"convertToInteractive('df-9cd80d06-87b0-4bcc-9870-d27071a2754e')\"\n",
              "              title=\"Convert this dataframe to an interactive table.\"\n",
              "              style=\"display:none;\">\n",
              "        \n",
              "  <svg xmlns=\"http://www.w3.org/2000/svg\" height=\"24px\"viewBox=\"0 0 24 24\"\n",
              "       width=\"24px\">\n",
              "    <path d=\"M0 0h24v24H0V0z\" fill=\"none\"/>\n",
              "    <path d=\"M18.56 5.44l.94 2.06.94-2.06 2.06-.94-2.06-.94-.94-2.06-.94 2.06-2.06.94zm-11 1L8.5 8.5l.94-2.06 2.06-.94-2.06-.94L8.5 2.5l-.94 2.06-2.06.94zm10 10l.94 2.06.94-2.06 2.06-.94-2.06-.94-.94-2.06-.94 2.06-2.06.94z\"/><path d=\"M17.41 7.96l-1.37-1.37c-.4-.4-.92-.59-1.43-.59-.52 0-1.04.2-1.43.59L10.3 9.45l-7.72 7.72c-.78.78-.78 2.05 0 2.83L4 21.41c.39.39.9.59 1.41.59.51 0 1.02-.2 1.41-.59l7.78-7.78 2.81-2.81c.8-.78.8-2.07 0-2.86zM5.41 20L4 18.59l7.72-7.72 1.47 1.35L5.41 20z\"/>\n",
              "  </svg>\n",
              "      </button>\n",
              "      \n",
              "  <style>\n",
              "    .colab-df-container {\n",
              "      display:flex;\n",
              "      flex-wrap:wrap;\n",
              "      gap: 12px;\n",
              "    }\n",
              "\n",
              "    .colab-df-convert {\n",
              "      background-color: #E8F0FE;\n",
              "      border: none;\n",
              "      border-radius: 50%;\n",
              "      cursor: pointer;\n",
              "      display: none;\n",
              "      fill: #1967D2;\n",
              "      height: 32px;\n",
              "      padding: 0 0 0 0;\n",
              "      width: 32px;\n",
              "    }\n",
              "\n",
              "    .colab-df-convert:hover {\n",
              "      background-color: #E2EBFA;\n",
              "      box-shadow: 0px 1px 2px rgba(60, 64, 67, 0.3), 0px 1px 3px 1px rgba(60, 64, 67, 0.15);\n",
              "      fill: #174EA6;\n",
              "    }\n",
              "\n",
              "    [theme=dark] .colab-df-convert {\n",
              "      background-color: #3B4455;\n",
              "      fill: #D2E3FC;\n",
              "    }\n",
              "\n",
              "    [theme=dark] .colab-df-convert:hover {\n",
              "      background-color: #434B5C;\n",
              "      box-shadow: 0px 1px 3px 1px rgba(0, 0, 0, 0.15);\n",
              "      filter: drop-shadow(0px 1px 2px rgba(0, 0, 0, 0.3));\n",
              "      fill: #FFFFFF;\n",
              "    }\n",
              "  </style>\n",
              "\n",
              "      <script>\n",
              "        const buttonEl =\n",
              "          document.querySelector('#df-9cd80d06-87b0-4bcc-9870-d27071a2754e button.colab-df-convert');\n",
              "        buttonEl.style.display =\n",
              "          google.colab.kernel.accessAllowed ? 'block' : 'none';\n",
              "\n",
              "        async function convertToInteractive(key) {\n",
              "          const element = document.querySelector('#df-9cd80d06-87b0-4bcc-9870-d27071a2754e');\n",
              "          const dataTable =\n",
              "            await google.colab.kernel.invokeFunction('convertToInteractive',\n",
              "                                                     [key], {});\n",
              "          if (!dataTable) return;\n",
              "\n",
              "          const docLinkHtml = 'Like what you see? Visit the ' +\n",
              "            '<a target=\"_blank\" href=https://colab.research.google.com/notebooks/data_table.ipynb>data table notebook</a>'\n",
              "            + ' to learn more about interactive tables.';\n",
              "          element.innerHTML = '';\n",
              "          dataTable['output_type'] = 'display_data';\n",
              "          await google.colab.output.renderOutput(dataTable, element);\n",
              "          const docLink = document.createElement('div');\n",
              "          docLink.innerHTML = docLinkHtml;\n",
              "          element.appendChild(docLink);\n",
              "        }\n",
              "      </script>\n",
              "    </div>\n",
              "  </div>\n",
              "  "
            ],
            "text/plain": [
              "      spb    mgdn\n",
              "0  0.0974  0.1033\n",
              "1  0.1352  0.0915\n",
              "2  0.0817  0.0781\n",
              "3  0.1016  0.0685\n",
              "4  0.0968  0.0677\n",
              "5  0.1064  0.0697\n",
              "6  0.1050  0.0764\n",
              "7  0.1033  0.0689"
            ]
          },
          "execution_count": 3,
          "metadata": {},
          "output_type": "execute_result"
        }
      ],
      "source": [
        "# формируем массивы данных\n",
        "df_spb = pd.DataFrame({'spb': mussels_spb})\n",
        "df_mgdn = pd.DataFrame({'mgdn': mussels_mgdn})\n",
        "\n",
        "# создаём общий датафрейм\n",
        "df = pd.concat([df_spb, df_mgdn], axis = 1)\n",
        "\n",
        "# т.к. массивы значений разной длины, то заменяем пропущенное значение медианным\n",
        "df.fillna(stcs.median(df['spb']).__round__(4), inplace = True)\n",
        "\n",
        "# проверяем данные\n",
        "df"
      ]
    },
    {
      "attachments": {},
      "cell_type": "markdown",
      "metadata": {
        "id": "EWyFKpBtHHRQ"
      },
      "source": [
        "# Тест на нормальность"
      ]
    },
    {
      "attachments": {},
      "cell_type": "markdown",
      "metadata": {
        "id": "rFwBy5EJHHRR"
      },
      "source": [
        "## Тест Шапиро-Уилка"
      ]
    },
    {
      "attachments": {},
      "cell_type": "markdown",
      "metadata": {
        "id": "EiPb1SzlHHRS"
      },
      "source": [
        "Тест проверяет, имеет ли выборка данных распределение Гаусса (нормальное, в виде \"колокола\").<br> Если полученная с его помощью статистическая значимость (*P-value*) больше уровня значимости, то мы не вправе отвергать нулевую гипотезу:"
      ]
    },
    {
      "cell_type": "code",
      "execution_count": 4,
      "metadata": {
        "id": "BSf6zFkuHHRT"
      },
      "outputs": [],
      "source": [
        "# нулевая гипотеза\n",
        "H_0 = 'Данные имеют гауссово распределение'\n",
        "\n",
        "# альтернативная гипотеза\n",
        "H_a = 'Данные не имеют гауссовского распределения'\n",
        "\n",
        "# уровень значимости\n",
        "alpha = 0.05"
      ]
    },
    {
      "cell_type": "code",
      "execution_count": 5,
      "metadata": {
        "colab": {
          "base_uri": "https://localhost:8080/"
        },
        "id": "kr1uLFFAHHRU",
        "outputId": "72579d05-efca-4462-e1e0-0d4d86953f79"
      },
      "outputs": [
        {
          "name": "stdout",
          "output_type": "stream",
          "text": [
            "Мы не можем отвергнуть нулевую гипотезу. Данные имеют гауссово распределение, так как P-value (0.1218) больше уровня значимости (0.05)\n"
          ]
        }
      ],
      "source": [
        "# статистическая значимость для теста Шапиро-Уилка (для мидий из Санкт-Петербурга)\n",
        "p_val_sh_wlks_spb = stats.shapiro(df['spb'])[1].__round__(4)\n",
        "\n",
        "# интерпретация\n",
        "if p_val_sh_wlks_spb > alpha:\n",
        "    print(f'Мы не можем отвергнуть нулевую гипотезу. {H_0}, '\\\n",
        "        f'так как P-value ({p_val_sh_wlks_spb}) больше уровня значимости ({alpha})')\n",
        "else:\n",
        "\tprint(f'Мы отвергаем нулевую гипотезу. {H_a}, '\\\n",
        "        f'так как P-value ({p_val_sh_wlks_spb}) меньше уровня значимости ({alpha})')"
      ]
    },
    {
      "cell_type": "code",
      "execution_count": 6,
      "metadata": {
        "colab": {
          "base_uri": "https://localhost:8080/"
        },
        "id": "gemdFNf7HHRV",
        "outputId": "ff46032f-5c7e-4fec-f992-a2f725fbb31a"
      },
      "outputs": [
        {
          "name": "stdout",
          "output_type": "stream",
          "text": [
            "Мы отвергаем нулевую гипотезу. Данные не имеют гауссовского распределения, так как P-value (0.0357) меньше уровня значимости (0.05)\n"
          ]
        }
      ],
      "source": [
        "# статистическая значимость для теста Шапиро-Уилка (для мидий из Магадана)\n",
        "p_val_sh_wlks_mgdn = stats.shapiro(df['mgdn'])[1].__round__(4)\n",
        "\n",
        "# интерпретация\n",
        "if p_val_sh_wlks_mgdn > alpha:\n",
        "    print(f'Мы не можем отвергнуть нулевую гипотезу. {H_0}, '\\\n",
        "        f'так как P-value ({p_val_sh_wlks_mgdn}) больше уровня значимости ({alpha})')\n",
        "else:\n",
        "\tprint(f'Мы отвергаем нулевую гипотезу. {H_a}, '\\\n",
        "        f'так как P-value ({p_val_sh_wlks_mgdn}) меньше уровня значимости ({alpha})')"
      ]
    },
    {
      "attachments": {},
      "cell_type": "markdown",
      "metadata": {
        "id": "UXGcrFJkHHRW"
      },
      "source": [
        "**Вывод:** по результатам теста Шапиро-Уилка данные столбца по мидиям из Санкт Петербурга распределены нормально, а данные столбца из Магадана не соответствуют нормальному распределению."
      ]
    },
    {
      "attachments": {},
      "cell_type": "markdown",
      "metadata": {
        "id": "9CaGwxC2HHRX"
      },
      "source": [
        "## Тест Д'Агостино"
      ]
    },
    {
      "attachments": {},
      "cell_type": "markdown",
      "metadata": {
        "id": "uNTujPlrHHRY"
      },
      "source": [
        "Получили предупреждение о действительности теста на эксцесс в связи с малой выборкой, **требуется выборка, имеющая 20 и более значений**.\n",
        "\n",
        "Данный тест является двусторонним, то есть рассчитывается статистическая значимость попадания как в левый, так и в правый хвост (эксцесс), поэтому для проверки нулевой гипотезы статистическую значимость (P-value) будем сравнивать с \"половинной величиной\" уровня значимости:"
      ]
    },
    {
      "cell_type": "code",
      "execution_count": 7,
      "metadata": {
        "colab": {
          "base_uri": "https://localhost:8080/"
        },
        "id": "xeL_d2YLHHRY",
        "outputId": "1752b47a-5bcd-42a4-acd9-57a1c8fc083b"
      },
      "outputs": [
        {
          "name": "stdout",
          "output_type": "stream",
          "text": [
            "Мы не можем отвергнуть нулевую гипотезу. Данные имеют гауссово распределение, так как P-value (0.1543) больше половины уровня значимости (0.025)\n"
          ]
        },
        {
          "name": "stderr",
          "output_type": "stream",
          "text": [
            "/usr/local/lib/python3.10/dist-packages/scipy/stats/_stats_py.py:1736: UserWarning: kurtosistest only valid for n>=20 ... continuing anyway, n=8\n",
            "  warnings.warn(\"kurtosistest only valid for n>=20 ... continuing \"\n"
          ]
        }
      ],
      "source": [
        "# статистическая значимость для теста Д'Агостино (для мидий из Магадана)\n",
        "p_val_K_2 = stats.normaltest(df)[1][1].__round__(4)\n",
        "\n",
        "# интерпретация\n",
        "if p_val_K_2 > (alpha / 2):\n",
        "    print(f'Мы не можем отвергнуть нулевую гипотезу. {H_0}, '\\\n",
        "        f'так как P-value ({p_val_K_2}) больше половины уровня значимости ({alpha / 2})')\n",
        "else:\n",
        "\tprint(f'Мы отвергаем нулевую гипотезу. {H_a}, '\\\n",
        "        f'так как P-value ({p_val_K_2}) меньше половины уровня значимости ({alpha / 2})')"
      ]
    },
    {
      "attachments": {},
      "cell_type": "markdown",
      "metadata": {
        "id": "QQlqmXKsHHRZ"
      },
      "source": [
        "## Оценка плотности"
      ]
    },
    {
      "attachments": {},
      "cell_type": "markdown",
      "metadata": {
        "id": "ji7f63niHHRa"
      },
      "source": [
        "Проверим распределения данных визуально, на графике:"
      ]
    },
    {
      "cell_type": "code",
      "execution_count": 8,
      "metadata": {
        "colab": {
          "base_uri": "https://localhost:8080/",
          "height": 487
        },
        "id": "Hxo0D45fHHRa",
        "outputId": "7da42a33-e2f8-4900-f44b-27d6b1c62e87"
      },
      "outputs": [
        {
          "data": {
            "image/png": "[encoded data removed]",
            "text/plain": [
              "<Figure size 1000x500 with 1 Axes>"
            ]
          },
          "metadata": {},
          "output_type": "display_data"
        }
      ],
      "source": [
        "# параметры полотна и число графиков\n",
        "fig, (ax1) = plt.subplots(ncols = 1, figsize = (10, 5))\n",
        "\n",
        "# задаем названия графика и осей\n",
        "ax1.set_title('Оценочные распределения размеров мидий по городам')\n",
        "ax1.set(xlabel = 'Размер мидий', ylabel = 'Плотность распределения признака')\n",
        "\n",
        "# kdeplot() (KDE – оценка плотности ядра) – специальный метод для графиков распределений\n",
        "sns.kdeplot(df['spb'], ax = ax1, label = 'Санкт-Петербург')\n",
        "sns.kdeplot(df['mgdn'], ax = ax1, label = 'Магадан')\n",
        "\n",
        "# отобразить легенду\n",
        "plt.legend();"
      ]
    },
    {
      "attachments": {},
      "cell_type": "markdown",
      "metadata": {
        "id": "NGbDMBoHHHRb"
      },
      "source": [
        "### **Выводы**:\n",
        "1. Поскольку было два списка разной длины, мы провели тесты на нормальность на каждом признаке отдельно.\n",
        "2. В регионе Санкт-Петербург данные распределены нормально. Но мы можем провести только тест Шапиро-Уилка, т.к. у нас всего всего 7 элементов без учета NaN;\n",
        "4. В регионе Магадан тест Шапиро-Уилка показывает что данные не распределены нормально, тест Д’Агостино показывает нормальное распределение. **Принимаем, предварительно, версию о нормально распределённых данных**.\n",
        "5. Кривые плотности распределений визуализируют, что **данные распределены нормально у обоих признаков**.\n",
        "6. Принимая во внимание расчёты алгоритмов и визуальную составляющую графиков, ***предварительно, исходим из того, что оба признака распределены нормально***, но на всякий случай выполним параметрический и непараметрические тесты."
      ]
    },
    {
      "attachments": {},
      "cell_type": "markdown",
      "metadata": {
        "id": "113WEhoIHHRc"
      },
      "source": [
        "---"
      ]
    },
    {
      "attachments": {},
      "cell_type": "markdown",
      "metadata": {
        "id": "KCLaQ2BQHHRc"
      },
      "source": [
        "#Корреляционные тесты. Обоснование выбора теста"
      ]
    },
    {
      "attachments": {},
      "cell_type": "markdown",
      "metadata": {
        "id": "EiYE_eLbHHRd"
      },
      "source": [
        "1. Коэффициент корреляции Пирсона может быть рассчитан для непрерывных нормально распределённых признаков.\n",
        "2. Лучшим вариантом будет придерживаться правил корреляций каждого из методов:\n",
        "\n",
        "    * для непрерывных нормально распределённых используем корреляцию Пирсона;\n",
        "\n",
        "    * для категориальных - ранговую. \n",
        "\n",
        "Так как у нас спорный случай, то рассмотрим дополнительно вариант корреляции по Спирману. Иногда возможно применить ранговую корреляцию и для числовых переменных, которые распределены ненормально или если между ними существует нелинейная связь.<br> У нас как раз такой неявный случай, а так как у нас количественные переменные в обоих выборках, то использование теста по Спирману в качестве корреляционного непараметрического теста обосновано."
      ]
    },
    {
      "attachments": {},
      "cell_type": "markdown",
      "metadata": {
        "id": "8LaBE-1wHHRe"
      },
      "source": [
        "## Корреляция Пирсона"
      ]
    },
    {
      "cell_type": "code",
      "execution_count": 9,
      "metadata": {
        "id": "-sW1347FHHRe"
      },
      "outputs": [],
      "source": [
        "# нулевая гипотеза\n",
        "H_0 = 'Отсутствует взаимосвязь между переменными'\n",
        "\n",
        "# альтернативная гипотеза\n",
        "H_a = 'Взаимосвязь между переменными есть'\n",
        "\n",
        "# уровень значимости\n",
        "alpha = 0.05"
      ]
    },
    {
      "cell_type": "code",
      "execution_count": 10,
      "metadata": {
        "colab": {
          "base_uri": "https://localhost:8080/"
        },
        "id": "VpczRmbrHHRf",
        "outputId": "aa83166e-c1ab-4538-eab6-b79cc63cc1d7"
      },
      "outputs": [
        {
          "name": "stdout",
          "output_type": "stream",
          "text": [
            "Мы не можем отвергнуть нулевую гипотезу. Отсутствует взаимосвязь между переменными, так как P-value (0.5578) больше уровня значимости (0.05)\n"
          ]
        }
      ],
      "source": [
        "# статистическая значимость для теста Пирсона\n",
        "p_val_pearson = stats.pearsonr(df['spb'], df['mgdn'])[1].__round__(4)\n",
        "\n",
        "# интерпретация\n",
        "if p_val_pearson > alpha:\n",
        "    print(f'Мы не можем отвергнуть нулевую гипотезу. {H_0}, '\\\n",
        "        f'так как P-value ({p_val_pearson}) больше уровня значимости ({alpha})')\n",
        "else:\n",
        "\tprint(f'Мы отвергаем нулевую гипотезу. {H_a}, '\\\n",
        "        f'так как P-value ({p_val_pearson}) меньше уровня значимости ({alpha})')"
      ]
    },
    {
      "cell_type": "code",
      "execution_count": 11,
      "metadata": {
        "colab": {
          "base_uri": "https://localhost:8080/",
          "height": 0
        },
        "id": "fl0cgxFJHHRg",
        "outputId": "e59cb57d-348d-48cc-cd00-9aa7e361c51b"
      },
      "outputs": [
        {
          "data": {
            "image/png": "[encoded data removed]",
            "text/plain": [
              "<Figure size 600x400 with 2 Axes>"
            ]
          },
          "metadata": {},
          "output_type": "display_data"
        }
      ],
      "source": [
        "# визуализация матрицы корреляции по Пирсону\n",
        "fig = plt.figure(figsize = (6, 4))\n",
        "ax = sns.heatmap(\n",
        "    df.corr(method = 'pearson', numeric_only = True), \n",
        "    annot = True, \n",
        "    fmt = '0.4g', \n",
        "    cmap = None, \n",
        "    square = True,\n",
        "    vmin = 0, \n",
        "    vmax = 1,\n",
        "    )\n",
        "ax.set_title(\"Корреляция по Пирсону\");"
      ]
    },
    {
      "attachments": {},
      "cell_type": "markdown",
      "metadata": {
        "id": "Q7Iy26FeHHRh"
      },
      "source": [
        "## Корреляция Спирмана"
      ]
    },
    {
      "cell_type": "code",
      "execution_count": 12,
      "metadata": {
        "colab": {
          "base_uri": "https://localhost:8080/"
        },
        "id": "FzEK_oihHHRh",
        "outputId": "7e64fb2e-561c-40aa-cfb6-77cfa755aa80"
      },
      "outputs": [
        {
          "name": "stdout",
          "output_type": "stream",
          "text": [
            "Мы не можем отвергнуть нулевую гипотезу. Отсутствует взаимосвязь между переменными, так как P-value (0.6932) больше уровня значимости (0.05)\n"
          ]
        }
      ],
      "source": [
        "# статистическая значимость для теста Спирмана\n",
        "p_val_spearman = stats.spearmanr(df['spb'], df['mgdn'])[1].__round__(4)\n",
        "\n",
        "# интерпретация\n",
        "if p_val_spearman > alpha:\n",
        "    print(f'Мы не можем отвергнуть нулевую гипотезу. {H_0}, '\\\n",
        "        f'так как P-value ({p_val_spearman}) больше уровня значимости ({alpha})')\n",
        "else:\n",
        "\tprint(f'Мы отвергаем нулевую гипотезу. {H_a}, '\\\n",
        "        f'так как P-value ({p_val_spearman}) меньше уровня значимости ({alpha})')"
      ]
    },
    {
      "cell_type": "code",
      "execution_count": 13,
      "metadata": {
        "colab": {
          "base_uri": "https://localhost:8080/",
          "height": 0
        },
        "id": "jzQubH7UHHRi",
        "outputId": "889650be-3e9b-492b-cb94-48dd0b868b90"
      },
      "outputs": [
        {
          "data": {
            "image/png": "[encoded data removed]",
            "text/plain": [
              "<Figure size 600x400 with 2 Axes>"
            ]
          },
          "metadata": {},
          "output_type": "display_data"
        }
      ],
      "source": [
        "# визуализация матрицы корреляции по Смирману\n",
        "fig = plt.figure(figsize = (6, 4))\n",
        "ax = sns.heatmap(\n",
        "    df.corr(method='spearman', numeric_only = True), \n",
        "    annot = True, \n",
        "    fmt = '0.4g', \n",
        "    cmap = None, \n",
        "    square = True,\n",
        "    vmin = 0, \n",
        "    vmax = 1,\n",
        ")\n",
        "ax.set_title(\"Корреляция по Спирману\");"
      ]
    },
    {
      "attachments": {},
      "cell_type": "markdown",
      "metadata": {
        "id": "y4x6GWB-HHRj"
      },
      "source": [
        "### **Выводы**:\n",
        "\n",
        "Оба теста свидетельствуют об отсутствии связи (очень слабой связи) между признаками (коэффициент корреляции < 0.3)\n",
        "\n",
        "Корреляционные тесты использовать не совсем корректно, так как нет как таковых пар значений, данные в выборках не связаны кроме одного признака - это размер мидий. Целесообразно применять только тесты на сравнение выборок."
      ]
    },
    {
      "attachments": {},
      "cell_type": "markdown",
      "metadata": {
        "id": "YbpZ2nkGHHRj"
      },
      "source": [
        "---"
      ]
    },
    {
      "attachments": {},
      "cell_type": "markdown",
      "metadata": {
        "id": "Z8VNlza6HHRj"
      },
      "source": [
        "# Сравнительные тесты выборок"
      ]
    },
    {
      "cell_type": "code",
      "execution_count": 14,
      "metadata": {
        "id": "vUMokW_1HHRk"
      },
      "outputs": [],
      "source": [
        "# нулевая гипотеза\n",
        "H_0 = 'Средние значения размеров раковин мидий, выращенных в 2 разных местах, равны'\n",
        "\n",
        "# альтернативная гипотеза\n",
        "H_a = 'Среднее значение размеров раковин мидий из одного места больше, чем из другого'\n",
        "\n",
        "# уровень значимости\n",
        "alpha = 0.05"
      ]
    },
    {
      "attachments": {},
      "cell_type": "markdown",
      "metadata": {
        "id": "Cb0N_RTJHHRk"
      },
      "source": [
        "На основании схемы, предложенной в материалах обучения:\n",
        "\n",
        "1. В качестве параметрического сравнительного теста, если исходить из того, что распределение данных близко к гауссовскому (нормальному распределению) - выбираем независимый t-критерий Стюдента (независимый t-тест). \n",
        "    \n",
        "    Так как у нас:\n",
        "\n",
        "    * 1 количественная переменная;\n",
        "\n",
        "    * данные из разных совокупностей;\n",
        "\n",
        "    * всего две группы для сравнения (магаданские и петербургские мидии);\n",
        "\n",
        "    * выборки независимы друг от друга;\n",
        "\n",
        "    * объём каждой выборки не превышает 30 элементов.\n",
        "\n",
        "2. В качестве непараметрического сравнительного теста - выбираем U-критерий Манна-Уитни (сумма рангов Уилкоксона), принимая во внимание вышеперечисленные факты."
      ]
    },
    {
      "attachments": {},
      "cell_type": "markdown",
      "metadata": {
        "id": "0kvYUtmvHHRl"
      },
      "source": [
        "## Параметрический тест.<br> t-критерий Стюдента (независимый t-тест)"
      ]
    },
    {
      "cell_type": "code",
      "execution_count": 15,
      "metadata": {
        "colab": {
          "base_uri": "https://localhost:8080/"
        },
        "id": "b9HO8qhQHHRl",
        "outputId": "e88c585c-5a03-4c2e-f77f-22423b5eecc4"
      },
      "outputs": [
        {
          "name": "stdout",
          "output_type": "stream",
          "text": [
            "Мы отвергаем нулевую гипотезу. Среднее значение размеров раковин мидий из одного места больше, чем из другого, так как P-value (0.0027) меньше уровня значимости (0.05)\n"
          ]
        }
      ],
      "source": [
        "# статистическая значимость для t-критерия Стьюдента\n",
        "p_val_t_test = stats.ttest_ind(df['spb'], df['mgdn'])[1].__round__(4)\n",
        "\n",
        "# интерпретация\n",
        "if p_val_t_test > alpha:\n",
        "    print(f'Мы не можем отвергнуть нулевую гипотезу. {H_0}, '\\\n",
        "        f'так как P-value ({p_val_t_test}) больше уровня значимости ({alpha})')\n",
        "else:\n",
        "\tprint(f'Мы отвергаем нулевую гипотезу. {H_a}, '\\\n",
        "        f'так как P-value ({p_val_t_test}) меньше уровня значимости ({alpha})')"
      ]
    },
    {
      "attachments": {},
      "cell_type": "markdown",
      "metadata": {
        "id": "5Eh0OnTNHHRm"
      },
      "source": [
        "## Непараметрический тест.<br> U-критерий Манна-Уитни (сумма рангов Уилкоксона)"
      ]
    },
    {
      "cell_type": "code",
      "execution_count": 16,
      "metadata": {
        "colab": {
          "base_uri": "https://localhost:8080/"
        },
        "id": "2fvh1s1lHHRm",
        "outputId": "9773a3f7-5fdc-4b77-a858-a97fa00405e0"
      },
      "outputs": [
        {
          "name": "stdout",
          "output_type": "stream",
          "text": [
            "Мы отвергаем нулевую гипотезу. Среднее значение размеров раковин мидий из одного места больше, чем из другого, так как P-value (0.0063) меньше уровня значимости (0.05)\n"
          ]
        }
      ],
      "source": [
        "# статистическая значимость для U-критерия Манна-Уитни\n",
        "p_val_mw_test = stats.mannwhitneyu(df['spb'], df['mgdn'])[1].__round__(4)\n",
        "\n",
        "# интерпретация\n",
        "if p_val_mw_test > alpha:\n",
        "    print(f'Мы не можем отвергнуть нулевую гипотезу. {H_0}, '\\\n",
        "        f'так как P-value ({p_val_mw_test}) больше уровня значимости ({alpha})')\n",
        "else:\n",
        "\tprint(f'Мы отвергаем нулевую гипотезу. {H_a}, '\\\n",
        "        f'так как P-value ({p_val_mw_test}) меньше уровня значимости ({alpha})')"
      ]
    },
    {
      "cell_type": "code",
      "execution_count": 17,
      "metadata": {
        "colab": {
          "base_uri": "https://localhost:8080/"
        },
        "id": "fIso3BewHHRn",
        "outputId": "20fbb422-fa72-4934-e5a0-2f8a38bba746"
      },
      "outputs": [
        {
          "name": "stdout",
          "output_type": "stream",
          "text": [
            "Мы отвергаем нулевую гипотезу. Среднее значение размеров раковин мидий из одного места больше, чем из другого, так как P-value (0.0054) меньше уровня значимости (0.05)\n"
          ]
        }
      ],
      "source": [
        "# статистическая значимость для теста \"сумма рангов Уилкоксона\"\n",
        "p_val_w_rank_test = stats.ranksums(df['spb'], df['mgdn'])[1].__round__(4)\n",
        "\n",
        "# интерпретация\n",
        "if p_val_w_rank_test > alpha:\n",
        "    print(f'Мы не можем отвергнуть нулевую гипотезу. {H_0}, '\\\n",
        "        f'так как P-value ({p_val_w_rank_test}) больше уровня значимости ({alpha})')\n",
        "else:\n",
        "\tprint(f'Мы отвергаем нулевую гипотезу. {H_a}, '\\\n",
        "        f'так как P-value ({p_val_w_rank_test}) меньше уровня значимости ({alpha})')"
      ]
    },
    {
      "attachments": {},
      "cell_type": "markdown",
      "metadata": {
        "id": "z3F6PG3eHHR7"
      },
      "source": [
        "Так как *P-value* теста ниже уровня значимости, результаты статистически значимы и согласуются с альтернативной гипотезой.\n",
        "\n",
        "Найдём фактическую разницу средних значений размеров мидий в зависимости от города происхождения:"
      ]
    },
    {
      "cell_type": "code",
      "execution_count": 18,
      "metadata": {
        "colab": {
          "base_uri": "https://localhost:8080/"
        },
        "id": "-tKG2D5QHHR7",
        "outputId": "73cf4c61-a24f-40e6-b809-cefa641ec35a"
      },
      "outputs": [
        {
          "name": "stdout",
          "output_type": "stream",
          "text": [
            "Разница средних размеров мидий составила 2.54 см\n"
          ]
        }
      ],
      "source": [
        "(df.mean() * 100).round(2)\n",
        "\n",
        "print(f\"Разница средних размеров мидий составила {((df['spb'].mean() - df['mgdn'].mean())* 100).round(2)} см\")"
      ]
    },
    {
      "attachments": {},
      "cell_type": "markdown",
      "metadata": {
        "id": "EBgipwYnHHR8"
      },
      "source": [
        "# Общие выводы:\n",
        "\n",
        "1. Выборка слишком мала, разной длины, образовавшийся пропуск сильно не осложняет сильно работу, но может внести коррективы при использовании тестов.\n",
        "2. Алгоритмы не дали однозначного явного представления о \"нормальности выборки\", поэтому выполнены сравнительные тесты обоих видов - и параметрические, и не параметрические.\n",
        "3. Тесты на корреляцию показали отсутствие взаимосвязи между данными.\n",
        "4. В Санкт-Петербурге средний размер раковин мидий составляет - 10,3 см, в Магадане - 7.8 см, разница в среднем составляет около 2.5см"
      ]
    }
  ],
  "metadata": {
    "colab": {
      "collapsed_sections": [
        "4EthnxVMP1Oo",
        "sNOEOXNQHHRK",
        "EWyFKpBtHHRQ",
        "KCLaQ2BQHHRc",
        "Z8VNlza6HHRj"
      ],
      "provenance": []
    },
    "kernelspec": {
      "display_name": "Python 3",
      "language": "python",
      "name": "python3"
    },
    "language_info": {
      "codemirror_mode": {
        "name": "ipython",
        "version": 3
      },
      "file_extension": ".py",
      "mimetype": "text/x-python",
      "name": "python",
      "nbconvert_exporter": "python",
      "pygments_lexer": "ipython3",
      "version": "3.10.10"
    },
    "orig_nbformat": 4,
    "vscode": {
      "interpreter": {
        "hash": "7b02cfcd8fef71610b44bd5f27af7343a9a16576c901d976aa2b0be0e7f076cc"
      }
    }
  },
  "nbformat": 4,
  "nbformat_minor": 0
}
