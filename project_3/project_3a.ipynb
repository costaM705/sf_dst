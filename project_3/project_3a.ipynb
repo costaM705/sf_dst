{
  "cells": [
    {
      "cell_type": "code",
      "execution_count": 10,
      "metadata": {
        "id": "TzDQypPAlTNJ"
      },
      "outputs": [
        {
          "name": "stdout",
          "output_type": "stream",
          "text": [
            "Requirement already satisfied: scikit-learn in c:\\python\\python310\\lib\\site-packages (1.2.2)\n",
            "Requirement already satisfied: numpy>=1.17.3 in c:\\python\\python310\\lib\\site-packages (from scikit-learn) (1.24.2)\n",
            "Requirement already satisfied: joblib>=1.1.1 in c:\\python\\python310\\lib\\site-packages (from scikit-learn) (1.2.0)\n",
            "Requirement already satisfied: threadpoolctl>=2.0.0 in c:\\python\\python310\\lib\\site-packages (from scikit-learn) (3.1.0)\n",
            "Requirement already satisfied: scipy>=1.3.2 in c:\\python\\python310\\lib\\site-packages (from scikit-learn) (1.10.1)\n"
          ]
        },
        {
          "name": "stderr",
          "output_type": "stream",
          "text": [
            "\n",
            "[notice] A new release of pip available: 22.3.1 -> 23.1.2\n",
            "[notice] To update, run: python.exe -m pip install --upgrade pip\n"
          ]
        }
      ],
      "source": [
        "import pandas as pd\n",
        "\n",
        "! pip install -U scikit-learn\n",
        "\n",
        "# импортируем библиотеки для разделения датасета\n",
        "from sklearn.model_selection import train_test_split\n",
        "\n",
        "# импортируем библиотеки модели для создания и обучения модели\n",
        "from sklearn.ensemble import RandomForestRegressor\n",
        "\n",
        "# импортируем библиотеки для оценки точности модели\n",
        "from sklearn import metrics\n",
        "\n",
        "# для работы с google-диском\n",
        "#from google.colab import drive"
      ]
    },
    {
      "cell_type": "code",
      "execution_count": 12,
      "metadata": {
        "colab": {
          "base_uri": "https://localhost:8080/",
          "height": 721
        },
        "id": "A2pPTHzqlTNT",
        "outputId": "92579ca7-8b9f-4eda-e435-a78accdcaef6"
      },
      "outputs": [
        {
          "data": {
            "text/html": [
              "<div>\n",
              "<style scoped>\n",
              "    .dataframe tbody tr th:only-of-type {\n",
              "        vertical-align: middle;\n",
              "    }\n",
              "\n",
              "    .dataframe tbody tr th {\n",
              "        vertical-align: top;\n",
              "    }\n",
              "\n",
              "    .dataframe thead th {\n",
              "        text-align: right;\n",
              "    }\n",
              "</style>\n",
              "<table border=\"1\" class=\"dataframe\">\n",
              "  <thead>\n",
              "    <tr style=\"text-align: right;\">\n",
              "      <th></th>\n",
              "      <th>hotel_address</th>\n",
              "      <th>additional_number_of_scoring</th>\n",
              "      <th>review_date</th>\n",
              "      <th>average_score</th>\n",
              "      <th>hotel_name</th>\n",
              "      <th>reviewer_nationality</th>\n",
              "      <th>negative_review</th>\n",
              "      <th>review_total_negative_word_counts</th>\n",
              "      <th>total_number_of_reviews</th>\n",
              "      <th>positive_review</th>\n",
              "      <th>review_total_positive_word_counts</th>\n",
              "      <th>total_number_of_reviews_reviewer_has_given</th>\n",
              "      <th>reviewer_score</th>\n",
              "      <th>tags</th>\n",
              "      <th>days_since_review</th>\n",
              "      <th>lat</th>\n",
              "      <th>lng</th>\n",
              "    </tr>\n",
              "  </thead>\n",
              "  <tbody>\n",
              "    <tr>\n",
              "      <th>0</th>\n",
              "      <td>Stratton Street Mayfair Westminster Borough Lo...</td>\n",
              "      <td>581</td>\n",
              "      <td>2/19/2016</td>\n",
              "      <td>8.4</td>\n",
              "      <td>The May Fair Hotel</td>\n",
              "      <td>United Kingdom</td>\n",
              "      <td>Leaving</td>\n",
              "      <td>3</td>\n",
              "      <td>1994</td>\n",
              "      <td>Staff were amazing</td>\n",
              "      <td>4</td>\n",
              "      <td>7</td>\n",
              "      <td>10.0</td>\n",
              "      <td>[' Leisure trip ', ' Couple ', ' Studio Suite ...</td>\n",
              "      <td>531 day</td>\n",
              "      <td>51.507894</td>\n",
              "      <td>-0.143671</td>\n",
              "    </tr>\n",
              "    <tr>\n",
              "      <th>1</th>\n",
              "      <td>130 134 Southampton Row Camden London WC1B 5AF...</td>\n",
              "      <td>299</td>\n",
              "      <td>1/12/2017</td>\n",
              "      <td>8.3</td>\n",
              "      <td>Mercure London Bloomsbury Hotel</td>\n",
              "      <td>United Kingdom</td>\n",
              "      <td>poor breakfast</td>\n",
              "      <td>3</td>\n",
              "      <td>1361</td>\n",
              "      <td>location</td>\n",
              "      <td>2</td>\n",
              "      <td>14</td>\n",
              "      <td>6.3</td>\n",
              "      <td>[' Business trip ', ' Couple ', ' Standard Dou...</td>\n",
              "      <td>203 day</td>\n",
              "      <td>51.521009</td>\n",
              "      <td>-0.123097</td>\n",
              "    </tr>\n",
              "    <tr>\n",
              "      <th>2</th>\n",
              "      <td>151 bis Rue de Rennes 6th arr 75006 Paris France</td>\n",
              "      <td>32</td>\n",
              "      <td>10/18/2016</td>\n",
              "      <td>8.9</td>\n",
              "      <td>Legend Saint Germain by Elegancia</td>\n",
              "      <td>China</td>\n",
              "      <td>No kettle in room</td>\n",
              "      <td>6</td>\n",
              "      <td>406</td>\n",
              "      <td>No Positive</td>\n",
              "      <td>0</td>\n",
              "      <td>14</td>\n",
              "      <td>7.5</td>\n",
              "      <td>[' Leisure trip ', ' Solo traveler ', ' Modern...</td>\n",
              "      <td>289 day</td>\n",
              "      <td>48.845377</td>\n",
              "      <td>2.325643</td>\n",
              "    </tr>\n",
              "    <tr>\n",
              "      <th>3</th>\n",
              "      <td>216 Avenue Jean Jaures 19th arr 75019 Paris Fr...</td>\n",
              "      <td>34</td>\n",
              "      <td>9/22/2015</td>\n",
              "      <td>7.5</td>\n",
              "      <td>Mercure Paris 19 Philharmonie La Villette</td>\n",
              "      <td>United Kingdom</td>\n",
              "      <td>No Negative</td>\n",
              "      <td>0</td>\n",
              "      <td>607</td>\n",
              "      <td>Friendly staff quiet comfortable room spotles...</td>\n",
              "      <td>11</td>\n",
              "      <td>8</td>\n",
              "      <td>10.0</td>\n",
              "      <td>[' Leisure trip ', ' Solo traveler ', ' Standa...</td>\n",
              "      <td>681 day</td>\n",
              "      <td>48.888697</td>\n",
              "      <td>2.394540</td>\n",
              "    </tr>\n",
              "    <tr>\n",
              "      <th>4</th>\n",
              "      <td>Molenwerf 1 1014 AG Amsterdam Netherlands</td>\n",
              "      <td>914</td>\n",
              "      <td>3/5/2016</td>\n",
              "      <td>8.5</td>\n",
              "      <td>Golden Tulip Amsterdam West</td>\n",
              "      <td>Poland</td>\n",
              "      <td>Torn sheets</td>\n",
              "      <td>4</td>\n",
              "      <td>7586</td>\n",
              "      <td>The staff was very friendly and helpful Break...</td>\n",
              "      <td>20</td>\n",
              "      <td>10</td>\n",
              "      <td>9.6</td>\n",
              "      <td>[' Business trip ', ' Couple ', ' Standard Dou...</td>\n",
              "      <td>516 day</td>\n",
              "      <td>52.385601</td>\n",
              "      <td>4.847060</td>\n",
              "    </tr>\n",
              "  </tbody>\n",
              "</table>\n",
              "</div>"
            ],
            "text/plain": [
              "                                       hotel_address  \\\n",
              "0  Stratton Street Mayfair Westminster Borough Lo...   \n",
              "1  130 134 Southampton Row Camden London WC1B 5AF...   \n",
              "2   151 bis Rue de Rennes 6th arr 75006 Paris France   \n",
              "3  216 Avenue Jean Jaures 19th arr 75019 Paris Fr...   \n",
              "4          Molenwerf 1 1014 AG Amsterdam Netherlands   \n",
              "\n",
              "   additional_number_of_scoring review_date  average_score  \\\n",
              "0                           581   2/19/2016            8.4   \n",
              "1                           299   1/12/2017            8.3   \n",
              "2                            32  10/18/2016            8.9   \n",
              "3                            34   9/22/2015            7.5   \n",
              "4                           914    3/5/2016            8.5   \n",
              "\n",
              "                                  hotel_name reviewer_nationality  \\\n",
              "0                         The May Fair Hotel      United Kingdom    \n",
              "1            Mercure London Bloomsbury Hotel      United Kingdom    \n",
              "2          Legend Saint Germain by Elegancia               China    \n",
              "3  Mercure Paris 19 Philharmonie La Villette      United Kingdom    \n",
              "4                Golden Tulip Amsterdam West              Poland    \n",
              "\n",
              "       negative_review  review_total_negative_word_counts  \\\n",
              "0             Leaving                                   3   \n",
              "1       poor breakfast                                  3   \n",
              "2   No kettle in room                                   6   \n",
              "3          No Negative                                  0   \n",
              "4         Torn sheets                                   4   \n",
              "\n",
              "   total_number_of_reviews                                    positive_review  \\\n",
              "0                     1994                                 Staff were amazing   \n",
              "1                     1361                                           location   \n",
              "2                      406                                        No Positive   \n",
              "3                      607   Friendly staff quiet comfortable room spotles...   \n",
              "4                     7586   The staff was very friendly and helpful Break...   \n",
              "\n",
              "   review_total_positive_word_counts  \\\n",
              "0                                  4   \n",
              "1                                  2   \n",
              "2                                  0   \n",
              "3                                 11   \n",
              "4                                 20   \n",
              "\n",
              "   total_number_of_reviews_reviewer_has_given  reviewer_score  \\\n",
              "0                                           7            10.0   \n",
              "1                                          14             6.3   \n",
              "2                                          14             7.5   \n",
              "3                                           8            10.0   \n",
              "4                                          10             9.6   \n",
              "\n",
              "                                                tags days_since_review  \\\n",
              "0  [' Leisure trip ', ' Couple ', ' Studio Suite ...           531 day   \n",
              "1  [' Business trip ', ' Couple ', ' Standard Dou...           203 day   \n",
              "2  [' Leisure trip ', ' Solo traveler ', ' Modern...           289 day   \n",
              "3  [' Leisure trip ', ' Solo traveler ', ' Standa...           681 day   \n",
              "4  [' Business trip ', ' Couple ', ' Standard Dou...           516 day   \n",
              "\n",
              "         lat       lng  \n",
              "0  51.507894 -0.143671  \n",
              "1  51.521009 -0.123097  \n",
              "2  48.845377  2.325643  \n",
              "3  48.888697  2.394540  \n",
              "4  52.385601  4.847060  "
            ]
          },
          "execution_count": 12,
          "metadata": {},
          "output_type": "execute_result"
        }
      ],
      "source": [
        "hotels = pd.read_csv('data/hotels.csv')\n",
        "hotels.head()"
      ]
    },
    {
      "attachments": {},
      "cell_type": "markdown",
      "metadata": {
        "id": "I8d3GyoGlTNW"
      },
      "source": [
        "**Задание 2.1**<br>\n",
        "В каких столбцах данные содержат пропущенные значения?"
      ]
    },
    {
      "cell_type": "code",
      "execution_count": 13,
      "metadata": {
        "colab": {
          "base_uri": "https://localhost:8080/"
        },
        "id": "j4KGYVjelTNZ",
        "outputId": "5ddd34f8-38c1-496c-dee5-b4feeb914801"
      },
      "outputs": [
        {
          "data": {
            "text/plain": [
              "lat    2448\n",
              "lng    2448\n",
              "dtype: int64"
            ]
          },
          "execution_count": 13,
          "metadata": {},
          "output_type": "execute_result"
        }
      ],
      "source": [
        "cols_null = hotels.isnull().sum()\n",
        "cols_null[cols_null > 0]"
      ]
    },
    {
      "attachments": {},
      "cell_type": "markdown",
      "metadata": {
        "id": "cBNQWhVxlTNb"
      },
      "source": [
        "**Задание 2.2**<br>\n",
        "В каких столбцах данные хранятся в числовом формате?"
      ]
    },
    {
      "cell_type": "code",
      "execution_count": 14,
      "metadata": {
        "colab": {
          "base_uri": "https://localhost:8080/"
        },
        "id": "JuDnJej4lTNb",
        "outputId": "8c6864c3-a345-4123-b426-81240804212d"
      },
      "outputs": [
        {
          "name": "stdout",
          "output_type": "stream",
          "text": [
            "additional_number_of_scoring\n",
            "average_score\n",
            "review_total_negative_word_counts\n",
            "total_number_of_reviews\n",
            "review_total_positive_word_counts\n",
            "total_number_of_reviews_reviewer_has_given\n",
            "reviewer_score\n",
            "lat\n",
            "lng\n"
          ]
        }
      ],
      "source": [
        "for col in hotels.columns[hotels.dtypes != 'object']:\n",
        "    print(col)"
      ]
    },
    {
      "attachments": {},
      "cell_type": "markdown",
      "metadata": {
        "id": "B5YnkPdplTNc"
      },
      "source": [
        "**Задание 2.3**<br>\n",
        "В каких столбцах данные представляют собой строки?"
      ]
    },
    {
      "cell_type": "code",
      "execution_count": 15,
      "metadata": {
        "colab": {
          "base_uri": "https://localhost:8080/"
        },
        "id": "LoiIguo2lTNd",
        "outputId": "623ecdc4-ec58-4219-b929-bff6ba97d03e"
      },
      "outputs": [
        {
          "name": "stdout",
          "output_type": "stream",
          "text": [
            "hotel_address\n",
            "review_date\n",
            "hotel_name\n",
            "reviewer_nationality\n",
            "negative_review\n",
            "positive_review\n",
            "tags\n",
            "days_since_review\n"
          ]
        }
      ],
      "source": [
        "for col in hotels.columns[hotels.dtypes == 'object']:\n",
        "    print(col)"
      ]
    },
    {
      "attachments": {},
      "cell_type": "markdown",
      "metadata": {
        "id": "UHsgjN5GlTNf"
      },
      "source": [
        "**Задание 2.4**<br>\n",
        "Напишите признак, представляющий собой дату.\n",
        "\n",
        "* review_date"
      ]
    },
    {
      "attachments": {},
      "cell_type": "markdown",
      "metadata": {
        "id": "HfGr5qoslTNf"
      },
      "source": [
        "**Задание 3.1**<br>\n",
        "Вопрос для размышления. По какой причине во время обучения модели возникла ошибка?\n",
        "\n",
        "* Ошибка возникла при обработке столбца со строковыми значениями. Следовательно, для обучения модели все данные должны быть переданы только в числовом формате."
      ]
    },
    {
      "attachments": {},
      "cell_type": "markdown",
      "metadata": {
        "id": "uUid7LBvlTNg"
      },
      "source": [
        "**Задание 4.2**<br>\n",
        "Сколько уникальных названий отелей представлено в наборе данных?"
      ]
    },
    {
      "cell_type": "code",
      "execution_count": 16,
      "metadata": {
        "colab": {
          "base_uri": "https://localhost:8080/"
        },
        "id": "2SxSjUCWlTNh",
        "outputId": "532fa553-59e1-4a22-88c4-5e053ca06e8d"
      },
      "outputs": [
        {
          "data": {
            "text/plain": [
              "1492"
            ]
          },
          "execution_count": 16,
          "metadata": {},
          "output_type": "execute_result"
        }
      ],
      "source": [
        "hotels['hotel_name'].nunique()"
      ]
    },
    {
      "attachments": {},
      "cell_type": "markdown",
      "metadata": {
        "id": "7I2c_cDilTNj"
      },
      "source": [
        "**Задание 4.3**<br>\n",
        "Ответьте на вопросы о дате размещения отзывов."
      ]
    },
    {
      "cell_type": "code",
      "execution_count": 17,
      "metadata": {
        "id": "0b0eF1rFlTNk"
      },
      "outputs": [],
      "source": [
        "hotels['review_date'] = pd.to_datetime(hotels['review_date'], format='%m/%d/%Y')"
      ]
    },
    {
      "cell_type": "code",
      "execution_count": 18,
      "metadata": {
        "colab": {
          "base_uri": "https://localhost:8080/"
        },
        "id": "irc2gjl-lTNk",
        "outputId": "9659bc7b-3fed-4f5b-ebf4-a6aec7492d04"
      },
      "outputs": [
        {
          "data": {
            "text/plain": [
              "0   2016-02-19\n",
              "1   2017-01-12\n",
              "2   2016-10-18\n",
              "3   2015-09-22\n",
              "4   2016-03-05\n",
              "Name: review_date, dtype: datetime64[ns]"
            ]
          },
          "execution_count": 18,
          "metadata": {},
          "output_type": "execute_result"
        }
      ],
      "source": [
        "hotels['review_date'].head()"
      ]
    },
    {
      "attachments": {},
      "cell_type": "markdown",
      "metadata": {
        "id": "VK2s_Gh-lTNl"
      },
      "source": [
        "Когда был оставлен самый свежий отзыв? Введите ответ в формате yyyy-mm-dd:"
      ]
    },
    {
      "cell_type": "code",
      "execution_count": 19,
      "metadata": {
        "colab": {
          "base_uri": "https://localhost:8080/"
        },
        "id": "Ine9JlY9lTNm",
        "outputId": "b2e8904c-6d83-4c56-d298-21cdfd7b41cd"
      },
      "outputs": [
        {
          "data": {
            "text/plain": [
              "Timestamp('2017-08-03 00:00:00')"
            ]
          },
          "execution_count": 19,
          "metadata": {},
          "output_type": "execute_result"
        }
      ],
      "source": [
        "hotels['review_date'].max()"
      ]
    },
    {
      "attachments": {},
      "cell_type": "markdown",
      "metadata": {
        "id": "UCxZ_fRSlTNm"
      },
      "source": [
        "Когда был оставлен самый первый отзыв? Введите ответ в формате yyyy-mm-dd:"
      ]
    },
    {
      "cell_type": "code",
      "execution_count": 20,
      "metadata": {
        "colab": {
          "base_uri": "https://localhost:8080/"
        },
        "id": "KHFjz6y9lTNn",
        "outputId": "5eef9a33-85b6-473d-dd80-bc053782db4b"
      },
      "outputs": [
        {
          "data": {
            "text/plain": [
              "Timestamp('2015-08-04 00:00:00')"
            ]
          },
          "execution_count": 20,
          "metadata": {},
          "output_type": "execute_result"
        }
      ],
      "source": [
        "hotels['review_date'].min()"
      ]
    },
    {
      "attachments": {},
      "cell_type": "markdown",
      "metadata": {
        "id": "0OJ5ng4ZlTNn"
      },
      "source": [
        "**Задание 4.4**<br>\n",
        "Сколько уникальных тегов представлено в наборе данных?"
      ]
    },
    {
      "cell_type": "code",
      "execution_count": 21,
      "metadata": {
        "colab": {
          "base_uri": "https://localhost:8080/",
          "height": 36
        },
        "id": "K5QBI7bAlTNo",
        "outputId": "d39a84ef-3c9d-47c2-cd54-10f249b142ec"
      },
      "outputs": [
        {
          "data": {
            "text/plain": [
              "\"[' Leisure trip ', ' Couple ', ' Studio Suite ', ' Stayed 2 nights ', ' Submitted from a mobile device ']\""
            ]
          },
          "execution_count": 21,
          "metadata": {},
          "output_type": "execute_result"
        }
      ],
      "source": [
        "hotels['tags'][0]"
      ]
    },
    {
      "cell_type": "code",
      "execution_count": 22,
      "metadata": {
        "colab": {
          "base_uri": "https://localhost:8080/"
        },
        "id": "3UlwC8-UlTNp",
        "outputId": "7c06dfc5-e754-48b8-d4a0-63305feb64cc"
      },
      "outputs": [
        {
          "name": "stdout",
          "output_type": "stream",
          "text": [
            "2368\n"
          ]
        }
      ],
      "source": [
        "# Сколько уникальных тегов представлено в наборе данных?\n",
        "tags = {}\n",
        "for tag_list in hotels['tags']:\n",
        "    for _tag in tag_list[3:-3].split(\" ', ' \"):\n",
        "        if _tag not in tags:\n",
        "            tags[_tag] = 1\n",
        "        else:\n",
        "            tags[_tag] += 1\n",
        "\n",
        "# вывести все теги\n",
        "# print(tags)\n",
        "\n",
        "# вывести количество тегов\n",
        "print(len(tags))"
      ]
    },
    {
      "attachments": {},
      "cell_type": "markdown",
      "metadata": {
        "id": "bKYDCMqSlTNq"
      },
      "source": [
        "**Задание 4.5**<br>\n",
        "Какой тег представлен в наибольшем числе отзывов?"
      ]
    },
    {
      "cell_type": "code",
      "execution_count": 23,
      "metadata": {
        "colab": {
          "base_uri": "https://localhost:8080/"
        },
        "id": "LuBABHv_lTNq",
        "outputId": "d87624d2-1394-4ce2-bce9-2149f169bee2"
      },
      "outputs": [
        {
          "name": "stdout",
          "output_type": "stream",
          "text": [
            "Leisure trip 313593\n"
          ]
        }
      ],
      "source": [
        "# счётчик\n",
        "tag_cnt = 0\n",
        "\n",
        "# переменная-накопитель - самый частый тег\n",
        "tag_name = ''\n",
        "for _tag in tags:\n",
        "    # если встретили более частый тег, переписываем соответствующие переменные:\n",
        "    # сам тег (ключ словаря), и значение ключа (значение ключа)\n",
        "    if tags[_tag] > tag_cnt:\n",
        "        tag_name = _tag\n",
        "        tag_cnt = tags[_tag]\n",
        "print(tag_name, tag_cnt)"
      ]
    },
    {
      "attachments": {},
      "cell_type": "markdown",
      "metadata": {
        "id": "6659Zr6ZlTNr"
      },
      "source": [
        "**Задание 4.6**<br>\n",
        "Из тегов выясните, на сколько ночей чаще всего останавливаются путешественники в отелях."
      ]
    },
    {
      "cell_type": "code",
      "execution_count": 24,
      "metadata": {
        "colab": {
          "base_uri": "https://localhost:8080/"
        },
        "id": "GxfE1xe6lTNr",
        "outputId": "cae1eadf-55c2-4027-cf58-74b53eb208a3"
      },
      "outputs": [
        {
          "name": "stdout",
          "output_type": "stream",
          "text": [
            "Stayed 2 nights 100263\n",
            "Stayed 1 night 145373\n",
            "Stayed 3 nights 72000\n",
            "Stayed 6 nights 7399\n",
            "Stayed 4 nights 35748\n",
            "Stayed 5 nights 15611\n",
            "Stayed 8 nights 1910\n",
            "Stayed 7 nights 5549\n",
            "Stayed 10 nights 663\n",
            "Stayed 14 nights 184\n",
            "Stayed 19 nights 23\n",
            "Stayed 13 nights 174\n",
            "Stayed 9 nights 966\n",
            "Stayed 17 nights 27\n",
            "Stayed 11 nights 306\n",
            "Stayed 27 nights 10\n",
            "Stayed 12 nights 217\n",
            "Stayed 15 nights 87\n",
            "Stayed 21 nights 19\n",
            "Stayed 18 nights 24\n",
            "Stayed 16 nights 38\n",
            "Stayed 26 nights 6\n",
            "Special Offer Double Room 3 nights minimum 6\n",
            "Stayed 24 nights 5\n",
            "Stayed 30 nights 10\n",
            "Stayed 22 nights 8\n",
            "King Room with Knightsbridge View 8\n",
            "Suite with Knightsbridge View 1\n",
            "Stayed 23 nights 6\n",
            "Stayed 28 nights 7\n",
            "Stayed 20 nights 17\n",
            "Junior Suite Give me the night 4\n",
            "Stayed 25 nights 4\n",
            "Knightsbridge Suite 1\n",
            "Stayed 29 nights 3\n"
          ]
        }
      ],
      "source": [
        "\n",
        "for _tag in tags:\n",
        "    if _tag.lower().find('night') >= 1:\n",
        "    # if a.lower().find('night') > -1:\n",
        "        print(_tag, tags[_tag])"
      ]
    },
    {
      "attachments": {},
      "cell_type": "markdown",
      "metadata": {
        "id": "md3hn-DtlTNs"
      },
      "source": [
        "**Задание 4.7**<br>\n",
        "Какое значение метрики MAPE вам удалось получить на этом этапе?\n",
        "(Перенесено в конец, т.к. удаляются (пока ещё нужные для исследования) столбцы)"
      ]
    },
    {
      "cell_type": "code",
      "execution_count": 25,
      "metadata": {
        "id": "4gw5Bmc_lTNs"
      },
      "outputs": [],
      "source": [
        "# убираем признаки, которые ещё не успели обработать, \n",
        "# модель на признаках с dtypes \"object\" или \"datetime64[ns]\"\" обучаться не будет, просто удалим их\n",
        "object_columns = [col for col in hotels.columns \n",
        "    if ((hotels[col].dtypes == 'object') | \n",
        "    (hotels[col].dtypes == 'datetime64[ns]'))\n",
        "]\n",
        "hotels.drop(object_columns, axis = 1, inplace=True)\n",
        "\n",
        "# заполняем пропуски самым простым способом\n",
        "hotels = hotels.fillna(0)"
      ]
    },
    {
      "cell_type": "code",
      "execution_count": 26,
      "metadata": {
        "id": "KZ6nJC43lTNt"
      },
      "outputs": [],
      "source": [
        "# Разбиваем датафрейм на части, необходимые для обучения и тестирования модели  \n",
        "# Х - данные с информацией об отелях, у - целевая переменная (рейтинги отелей)  \n",
        "X = hotels.drop(['reviewer_score'], axis = 1)  \n",
        "y = hotels['reviewer_score'] "
      ]
    },
    {
      "cell_type": "code",
      "execution_count": 27,
      "metadata": {
        "id": "Zoqn5QQglTNt"
      },
      "outputs": [],
      "source": [
        "# Наборы данных с меткой \"train\" будут использоваться для обучения модели, \"test\" - для тестирования  \n",
        "# Для тестирования мы будем использовать 25% от исходного датасета.  \n",
        "X_train, X_test, y_train, y_test = train_test_split(X, y, test_size = 0.25, random_state = 42)"
      ]
    },
    {
      "cell_type": "code",
      "execution_count": 28,
      "metadata": {
        "id": "0hFJr72JlTNu"
      },
      "outputs": [],
      "source": [
        "# Создаём модель  \n",
        "regr = RandomForestRegressor(n_estimators = 100)  \n",
        "\n",
        "# Обучаем модель на тестовом наборе данных  \n",
        "regr.fit(X_train, y_train)  \n",
        "\n",
        "# Используем обученную модель для предсказания рейтинга отелей в тестовой выборке  \n",
        "# Предсказанные значения записываем в переменную y_pred  \n",
        "y_pred = regr.predict(X_test)"
      ]
    },
    {
      "cell_type": "code",
      "execution_count": 29,
      "metadata": {
        "colab": {
          "base_uri": "https://localhost:8080/"
        },
        "id": "4F7zV3s1lTNv",
        "outputId": "6079faaa-138e-4757-8fdc-35fac1bc404c"
      },
      "outputs": [
        {
          "name": "stdout",
          "output_type": "stream",
          "text": [
            "MAPE: 0.14136457857236262\n"
          ]
        }
      ],
      "source": [
        "# Сравниваем предсказанные значения (y_pred) с реальными (y_test), и смотрим насколько они отличаются  \n",
        "# Метрика называется Mean Absolute Percentage Error (MAPE) и показывает среднюю абсолютную процентную ошибку предсказанных значений от фактических  \n",
        "print('MAPE:', metrics.mean_absolute_percentage_error(y_test, y_pred))"
      ]
    }
  ],
  "metadata": {
    "colab": {
      "provenance": []
    },
    "kernelspec": {
      "display_name": "Python 3",
      "language": "python",
      "name": "python3"
    },
    "language_info": {
      "codemirror_mode": {
        "name": "ipython",
        "version": 3
      },
      "file_extension": ".py",
      "mimetype": "text/x-python",
      "name": "python",
      "nbconvert_exporter": "python",
      "pygments_lexer": "ipython3",
      "version": "3.10.10"
    },
    "orig_nbformat": 4
  },
  "nbformat": 4,
  "nbformat_minor": 0
}
